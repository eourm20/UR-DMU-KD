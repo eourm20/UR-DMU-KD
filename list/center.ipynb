{
 "cells": [
  {
   "cell_type": "code",
   "execution_count": 3,
   "metadata": {},
   "outputs": [],
   "source": [
    "path = 'XD_Train.list'\n",
    "center = []\n",
    "f = open(path, 'r')\n",
    "for line in f:\n",
    "    if \"__0\" in line:\n",
    "        center.append(line)\n",
    "    else:\n",
    "        continue\n",
    "f.close()\n",
    "\n",
    "save_path = 'XD_Train_center.list'\n",
    "f = open(save_path, 'w')\n",
    "for c in center:\n",
    "    f.write(c)\n",
    "f.close()"
   ]
  },
  {
   "cell_type": "code",
   "execution_count": 4,
   "metadata": {},
   "outputs": [],
   "source": [
    "path = 'XD_Test.list'\n",
    "center = []\n",
    "f = open(path, 'r')\n",
    "for line in f:\n",
    "    if \"__0\" in line:\n",
    "        center.append(line)\n",
    "    else:\n",
    "        continue\n",
    "f.close()\n",
    "\n",
    "save_path = 'XD_Test_center.list'\n",
    "f = open(save_path, 'w')\n",
    "for c in center:\n",
    "    f.write(c)\n",
    "f.close()"
   ]
  }
 ],
 "metadata": {
  "kernelspec": {
   "display_name": "WVAD",
   "language": "python",
   "name": "python3"
  },
  "language_info": {
   "codemirror_mode": {
    "name": "ipython",
    "version": 3
   },
   "file_extension": ".py",
   "mimetype": "text/x-python",
   "name": "python",
   "nbconvert_exporter": "python",
   "pygments_lexer": "ipython3",
   "version": "3.8.16"
  }
 },
 "nbformat": 4,
 "nbformat_minor": 2
}
