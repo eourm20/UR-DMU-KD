{
 "cells": [
  {
   "cell_type": "code",
   "execution_count": 1,
   "metadata": {},
   "outputs": [],
   "source": [
    "a = open('ucf-label-i3d_svr3_Test.list', 'r')\n",
    "aa = []\n",
    "for line in a:\n",
    "    if '__' in line:\n",
    "        continue\n",
    "    else:\n",
    "        aa.append(line)\n",
    "a.close()\n",
    "b = open('ucf-label-i3d_svr3_Test2.list', 'w')\n",
    "for i in aa:\n",
    "    b.write(i)\n",
    "b.close()"
   ]
  }
 ],
 "metadata": {
  "kernelspec": {
   "display_name": "WVAD",
   "language": "python",
   "name": "python3"
  },
  "language_info": {
   "codemirror_mode": {
    "name": "ipython",
    "version": 3
   },
   "file_extension": ".py",
   "mimetype": "text/x-python",
   "name": "python",
   "nbconvert_exporter": "python",
   "pygments_lexer": "ipython3",
   "version": "3.8.16"
  }
 },
 "nbformat": 4,
 "nbformat_minor": 2
}
