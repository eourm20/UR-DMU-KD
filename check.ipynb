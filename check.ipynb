{
 "cells": [
  {
   "cell_type": "code",
   "execution_count": 38,
   "metadata": {},
   "outputs": [
    {
     "name": "stdout",
     "output_type": "stream",
     "text": [
      "14689\n",
      "14689\n"
     ]
    }
   ],
   "source": [
    "import numpy as np\n",
    "\n",
    "\n",
    "# npy 파일 불러오기\n",
    "path = '/home/sb-oh/Nas-subin/SB-Oh/data/HPE/OHLoss_np3/Training_Normal_Videos_Anomaly/Normal_Videos946_x264.npy'\n",
    "parh2 = '/home/sb-oh/Nas-subin/SB-Oh/data/I3D_feature/Train/RGB/Training_Normal_Videos_Anomaly/Normal_Videos946_x264.npy'\n",
    "txt = np.load(path)\n",
    "txt2 = np.load(parh2)\n",
    "# print(txt)\n",
    "print(len(txt))\n",
    "# print(txt2)\n",
    "print(len(txt2))"
   ]
  },
  {
   "cell_type": "code",
   "execution_count": null,
   "metadata": {},
   "outputs": [],
   "source": [
    "/home/subin-oh/Nas-subin/SB-Oh/data/I3D_feature/Train/RGB/Abuse"
   ]
  }
 ],
 "metadata": {
  "kernelspec": {
   "display_name": "WVAD",
   "language": "python",
   "name": "python3"
  },
  "language_info": {
   "codemirror_mode": {
    "name": "ipython",
    "version": 3
   },
   "file_extension": ".py",
   "mimetype": "text/x-python",
   "name": "python",
   "nbconvert_exporter": "python",
   "pygments_lexer": "ipython3",
   "version": "3.8.16"
  }
 },
 "nbformat": 4,
 "nbformat_minor": 2
}
