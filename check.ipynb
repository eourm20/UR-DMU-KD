{
 "cells": [
  {
   "cell_type": "code",
   "execution_count": 5,
   "metadata": {},
   "outputs": [
    {
     "name": "stdout",
     "output_type": "stream",
     "text": [
      "14689\n",
      "14689\n"
     ]
    }
   ],
   "source": [
    "import numpy as np\n",
    "\n",
    "\n",
    "# npy 파일 불러오기\n",
    "path = '/home/subin-oh/Nas-subin/SB-Oh/data/HPE/OHLoss_np3/Training_Normal_Videos_Anomaly/Normal_Videos946_x264.npy'\n",
    "parh2 = '/home/subin-oh/Nas-subin/SB-Oh/data/I3D_feature/Train/RGB/Training_Normal_Videos_Anomaly/Normal_Videos946_x264.npy'\n",
    "txt = np.load(path)\n",
    "txt2 = np.load(parh2)\n",
    "# print(txt)\n",
    "print(len(txt))\n",
    "# print(txt2)\n",
    "print(len(txt2))"
   ]
  },
  {
   "cell_type": "code",
   "execution_count": 6,
   "metadata": {},
   "outputs": [
    {
     "data": {
      "text/plain": [
       "(14689, 1024)"
      ]
     },
     "execution_count": 6,
     "metadata": {},
     "output_type": "execute_result"
    }
   ],
   "source": [
    "txt2.shape"
   ]
  },
  {
   "cell_type": "code",
   "execution_count": 1,
   "metadata": {},
   "outputs": [
    {
     "name": "stdout",
     "output_type": "stream",
     "text": [
      "96\n"
     ]
    }
   ],
   "source": [
    "import numpy as np\n",
    "\n",
    "\n",
    "# npy 파일 불러오기\n",
    "# path = '/home/sb-oh/Nas-subin/SB-Oh/data/HPE/OHLoss_np3/Training_Normal_Videos_Anomaly/Normal_Videos946_x264.npy'\n",
    "parh2 = '/home/subin-oh/Nas-subin/SB-Oh/data/XD-Violence/i3d-features/RGBTest/Bullet.in.the.Head.1990__#01-26-30_01-27-34_label_B2-0-0__0.npy'\n",
    "# txt = np.load(path)\n",
    "txt2 = np.load(parh2)\n",
    "# print(txt)\n",
    "# print(len(txt))\n",
    "# print(txt2)\n",
    "print(len(txt2))"
   ]
  },
  {
   "cell_type": "code",
   "execution_count": 3,
   "metadata": {},
   "outputs": [
    {
     "data": {
      "text/plain": [
       "(96, 1024)"
      ]
     },
     "execution_count": 3,
     "metadata": {},
     "output_type": "execute_result"
    }
   ],
   "source": [
    "txt2.shape"
   ]
  },
  {
   "cell_type": "code",
   "execution_count": 8,
   "metadata": {},
   "outputs": [
    {
     "data": {
      "text/plain": [
       "96.0625"
      ]
     },
     "execution_count": 8,
     "metadata": {},
     "output_type": "execute_result"
    }
   ],
   "source": [
    "1537/16"
   ]
  },
  {
   "cell_type": "code",
   "execution_count": null,
   "metadata": {},
   "outputs": [],
   "source": []
  }
 ],
 "metadata": {
  "kernelspec": {
   "display_name": "WVAD",
   "language": "python",
   "name": "python3"
  },
  "language_info": {
   "codemirror_mode": {
    "name": "ipython",
    "version": 3
   },
   "file_extension": ".py",
   "mimetype": "text/x-python",
   "name": "python",
   "nbconvert_exporter": "python",
   "pygments_lexer": "ipython3",
   "version": "3.8.16"
  }
 },
 "nbformat": 4,
 "nbformat_minor": 2
}
